{
 "cells": [
  {
   "cell_type": "markdown",
   "id": "e7909a41",
   "metadata": {},
   "source": [
    "<h1> Cryptoanalysis of a text file encrypted Vigenere cipher </h1>"
   ]
  },
  {
   "cell_type": "code",
   "execution_count": 1,
   "id": "42fa4bcc",
   "metadata": {},
   "outputs": [],
   "source": [
    "import numpy as np\n",
    "import scipy.special as sc\n",
    "import statistics as st\n",
    "import random\n",
    "import math\n",
    "import pandas as pd\n",
    "import multiprocessing as mp\n",
    "import scipy.stats as scst\n",
    "from scipy import interpolate\n",
    "from scipy.integrate import quad, simpson\n",
    "from scipy.stats import poisson\n",
    "from scipy.interpolate import interp1d\n",
    "from multiprocessing import Pool, Manager, Value\n",
    "from functools import partial, reduce\n",
    "#from LISAhdf5 import LISAhdf5,ParsUnits\n",
    "#%matplotlib inline\n",
    "import matplotlib.pyplot as plt\n",
    "plt.style.use('seaborn-whitegrid')"
   ]
  },
  {
   "cell_type": "markdown",
   "id": "7799a006",
   "metadata": {},
   "source": [
    "We have to decypher the message :"
   ]
  },
  {
   "cell_type": "code",
   "execution_count": 2,
   "id": "21110c55",
   "metadata": {},
   "outputs": [],
   "source": [
    "Encoded_mex = \"TUIRDSFOGKYLBVLOORXXRVDPL\"\\\n",
    "              \"SHRSBPOCBTTLQPGAOMHMSVONM\"\\\n",
    "              \"HDHDNTRTCXRYCJLNHGHTBRIIM\"\\\n",
    "              \"HHQWBNHGTIERDAXBHWCZIQGEB\"\\\n",
    "              \"RHRQRTKSGXVRZJMIRBXGBXQWT\"\\\n",
    "              \"RHGIUELXXGGDIIAOUWIBEVAPR\"\\\n",
    "              \"DHQXWEWCTQTHBSFAUHXTLOOLN\"\\\n",
    "              \"NWWAMHHOHBAQUPFEVGRAEGIAX\"\\\n",
    "              \"DICGLESHTFBHFGXMRJXGGPOGM\"\\\n",
    "              \"IDZATWZCJEDESPLIJBPEAGWEE\"\\\n",
    "              \"OPOILALREXOSZTPOXZSMANSXM\"\\\n",
    "              \"TRATTNWVPMWKOIAASDTGEGPTY\"\\\n",
    "              \"OUSRHUORHMAUHJIAJOXGIQOHM\"\\\n",
    "              \"AWSRHUQQXEMHSIBNJCCPEGBTL\"\\\n",
    "              \"DDMBKLLRTYEQRTWBHWYBNJGJL\"\\\n",
    "              \"ERTBBLLHPKYICGVEWCRKAFYSH\"\\\n",
    "              \"WQCCMHHGINDHBIFOYSBXNWHWX\"\\\n",
    "              \"CUIHAIQUDYTKSRHUQHTKRHJDE\""
   ]
  },
  {
   "cell_type": "markdown",
   "id": "e4c4dd36",
   "metadata": {},
   "source": [
    "Let's start by defining a function to estimate the frequency of the characters in the text !"
   ]
  },
  {
   "cell_type": "code",
   "execution_count": 3,
   "id": "c031ed63",
   "metadata": {},
   "outputs": [],
   "source": [
    "def CharFrequencies(string):\n",
    "    # Given a string, returns a dictionary with the frequencies of all the characters in the string\n",
    "    char_freq = {\n",
    "    'A' : 0.,\n",
    "    'B' : 0.,\n",
    "    'C' : 0.,\n",
    "    'D' : 0.,\n",
    "    'E' : 0.,\n",
    "    'F' : 0.,\n",
    "    'G' : 0.,\n",
    "    'H' : 0.,\n",
    "    'I' : 0.,\n",
    "    'J' : 0.,\n",
    "    'K' : 0.,\n",
    "    'L' : 0.,\n",
    "    'M' : 0.,\n",
    "    'N' : 0.,\n",
    "    'O' : 0.,\n",
    "    'P' : 0.,\n",
    "    'Q' : 0.,\n",
    "    'R' : 0.,\n",
    "    'S' : 0.,\n",
    "    'T' : 0.,\n",
    "    'U' : 0.,\n",
    "    'V' : 0.,\n",
    "    'W' : 0.,\n",
    "    'X' : 0.,\n",
    "    'Y' : 0.,\n",
    "    'Z' : 0. \n",
    "    }\n",
    "    \n",
    "    for i in string:\n",
    "            char_freq[i] += 1./len(string)\n",
    "    \n",
    "    return char_freq"
   ]
  },
  {
   "cell_type": "markdown",
   "id": "d3ef92b2",
   "metadata": {},
   "source": [
    "we can hence see that :"
   ]
  },
  {
   "cell_type": "code",
   "execution_count": 4,
   "id": "7900406e",
   "metadata": {},
   "outputs": [
    {
     "data": {
      "text/plain": [
       "{'A': 0.04666666666666667,\n",
       " 'B': 0.051111111111111114,\n",
       " 'C': 0.031111111111111114,\n",
       " 'D': 0.035555555555555556,\n",
       " 'E': 0.04666666666666667,\n",
       " 'F': 0.015555555555555557,\n",
       " 'G': 0.05555555555555556,\n",
       " 'H': 0.08222222222222222,\n",
       " 'I': 0.05333333333333334,\n",
       " 'J': 0.024444444444444446,\n",
       " 'K': 0.017777777777777778,\n",
       " 'L': 0.04,\n",
       " 'M': 0.035555555555555556,\n",
       " 'N': 0.02666666666666667,\n",
       " 'O': 0.04666666666666667,\n",
       " 'P': 0.031111111111111114,\n",
       " 'Q': 0.03333333333333333,\n",
       " 'R': 0.06222222222222223,\n",
       " 'S': 0.04,\n",
       " 'T': 0.05777777777777778,\n",
       " 'U': 0.02666666666666667,\n",
       " 'V': 0.017777777777777778,\n",
       " 'W': 0.042222222222222223,\n",
       " 'X': 0.04666666666666667,\n",
       " 'Y': 0.02,\n",
       " 'Z': 0.013333333333333334}"
      ]
     },
     "execution_count": 4,
     "metadata": {},
     "output_type": "execute_result"
    }
   ],
   "source": [
    "Frequencies = CharFrequencies(Encoded_mex)\n",
    "Frequencies"
   ]
  },
  {
   "cell_type": "markdown",
   "id": "510e6b98",
   "metadata": {},
   "source": [
    "and these values can be used to have a first hint on the lenght of the key using the [Index of Coincidence](http://practicalcryptography.com/cryptanalysis/text-characterisation/index-coincidence/), which can be estimated from the frequencies of the text using the following function :"
   ]
  },
  {
   "cell_type": "code",
   "execution_count": 5,
   "id": "e27ae1c7",
   "metadata": {},
   "outputs": [],
   "source": [
    "def IC_Analysis(Frq_char):\n",
    "    # This function, receive a dictionary with the frequency of each character of a text and give informations by computing it's IC\n",
    "    Ic = 0.\n",
    "    for i in Frq_char:\n",
    "        Ic += Frq_char[i]**2.\n",
    "    print('The value of Index of coincidence estimated for the text is : ',Ic)\n",
    "    \n",
    "    if(Ic > 0.052):\n",
    "        print('The text is likely to come from a single alphabet! \\nConsult the IC table to find one which one is more likely !')\n",
    "    elif(Ic > 0.0440):\n",
    "        print('The text is likely to have been cyphered with 2 to 5 different alphabets !')\n",
    "    elif(Ic > 0.041):\n",
    "        print('The text is likely to have been cyphered with 5 to 10 different alphabets!')\n",
    "    else:\n",
    "        print('The text either has more than 10 alphabets or is a random text, good luck !')"
   ]
  },
  {
   "cell_type": "code",
   "execution_count": 6,
   "id": "0d8daa24",
   "metadata": {
    "scrolled": true
   },
   "outputs": [
    {
     "name": "stdout",
     "output_type": "stream",
     "text": [
      "The value of Index of coincidence estimated for the text is :  0.04525432098765432\n",
      "The text is likely to have been cyphered with 2 to 5 different alphabets !\n"
     ]
    }
   ],
   "source": [
    "IC_Analysis(Frequencies)"
   ]
  },
  {
   "cell_type": "markdown",
   "id": "1b1a0528",
   "metadata": {},
   "source": [
    "After this first interesting information, we can proceed with the [Kasisky Test](https://en.wikipedia.org/wiki/Kasiski_examination) to double check if our first esteem makes sense.\n",
    "Let's define a function to do this test :"
   ]
  },
  {
   "cell_type": "code",
   "execution_count": 7,
   "id": "fdd3334a",
   "metadata": {},
   "outputs": [],
   "source": [
    "def Check_String_Repeatition(String, Str_len):\n",
    "    # Given a string, it decompose that in smaller stringhs of lenght Str_len and it checks the original one for how many times each small piece appear and at which locations\n",
    "    \n",
    "    checked = {}\n",
    "    \n",
    "    for i in range(len(String) - Str_len):\n",
    "        if (String.count(String[i:i + Str_len]) > 1 and String[i:i + Str_len] not in checked):\n",
    "            \n",
    "            checked[String[i:i + Str_len]] = String.count(String[i:i + Str_len])\n",
    "            print('The word ',String[i:i + Str_len],' appears ',String.count(String[i:i + Str_len]), 'times in the text')\n",
    "    \n",
    "            \n",
    "    return checked\n",
    "    "
   ]
  },
  {
   "cell_type": "code",
   "execution_count": 8,
   "id": "da309323",
   "metadata": {},
   "outputs": [
    {
     "name": "stdout",
     "output_type": "stream",
     "text": [
      "The word  LOO  appears  2 times in the text\n",
      "The word  NHG  appears  2 times in the text\n",
      "The word  MHH  appears  3 times in the text\n",
      "The word  BHW  appears  2 times in the text\n",
      "The word  QRT  appears  2 times in the text\n",
      "The word  TKS  appears  2 times in the text\n",
      "The word  HGI  appears  2 times in the text\n",
      "The word  XGG  appears  2 times in the text\n",
      "The word  EWC  appears  2 times in the text\n",
      "The word  AUH  appears  2 times in the text\n",
      "The word  ICG  appears  2 times in the text\n",
      "The word  SRH  appears  3 times in the text\n",
      "The word  RHU  appears  3 times in the text\n",
      "The word  HMA  appears  2 times in the text\n",
      "The word  HUQ  appears  2 times in the text\n",
      "The word  BNJ  appears  2 times in the text\n"
     ]
    }
   ],
   "source": [
    "Dupes = Check_String_Repeatition(Encoded_mex, 3)"
   ]
  },
  {
   "cell_type": "markdown",
   "id": "1936c260",
   "metadata": {},
   "source": [
    "we now have to check at which location the sub-strings repeat, in order  to use the Kasisky test to try to guess the key :"
   ]
  },
  {
   "cell_type": "code",
   "execution_count": 9,
   "id": "5580acbe",
   "metadata": {},
   "outputs": [],
   "source": [
    "def dupes_str_indexes(string, sub_string):\n",
    "    #Given a string and a substring it returns an array with the indexes at which the substring appears\n",
    "    indexes = np.linspace(0,1,string.count(sub_string))\n",
    "    j = 0\n",
    "    for i in range(len(string) - len(sub_string)):\n",
    "        if string[i: i + len(sub_string)] == sub_string:\n",
    "            indexes[j] = i\n",
    "            j += 1\n",
    "    \n",
    "    print('The substring ',sub_string, ' was found at locations ', indexes)\n",
    "    return indexes.astype(int)"
   ]
  },
  {
   "cell_type": "markdown",
   "id": "06c734f3",
   "metadata": {},
   "source": [
    "and we can run the previously defined function on all the dupes we previously found to see the indexes and their _greatest common divisor (GCD)_, indeed we are gonna ignore the cases when $GCD = 1$:"
   ]
  },
  {
   "cell_type": "code",
   "execution_count": 10,
   "id": "d6efc65e",
   "metadata": {},
   "outputs": [
    {
     "name": "stdout",
     "output_type": "stream",
     "text": [
      "The substring  LOO  was found at locations  [ 14. 170.]\n",
      "The greatest common divisor for the indexes of the substring  LOO  is  2\n",
      "The substring  NHG  was found at locations  [65. 80.]\n",
      "The greatest common divisor for the indexes of the substring  NHG  is  5\n",
      "The substring  MHH  was found at locations  [ 74. 179. 404.]\n",
      "The substring  BHW  was found at locations  [ 90. 365.]\n",
      "The greatest common divisor for the indexes of the substring  BHW  is  5\n",
      "The substring  QRT  was found at locations  [103. 361.]\n",
      "The substring  TKS  was found at locations  [105. 435.]\n",
      "The greatest common divisor for the indexes of the substring  TKS  is  15\n",
      "The substring  HGI  was found at locations  [126. 406.]\n",
      "The greatest common divisor for the indexes of the substring  HGI  is  14\n",
      "The substring  XGG  was found at locations  [133. 218.]\n",
      "The substring  EWC  was found at locations  [155. 390.]\n",
      "The greatest common divisor for the indexes of the substring  EWC  is  5\n",
      "The substring  AUH  was found at locations  [165. 310.]\n",
      "The greatest common divisor for the indexes of the substring  AUH  is  5\n",
      "The substring  ICG  was found at locations  [201. 386.]\n",
      "The substring  SRH  was found at locations  [302. 327. 437.]\n",
      "The substring  RHU  was found at locations  [303. 328. 438.]\n",
      "The substring  HMA  was found at locations  [308. 323.]\n",
      "The substring  HUQ  was found at locations  [329. 439.]\n",
      "The substring  BNJ  was found at locations  [339. 369.]\n",
      "The greatest common divisor for the indexes of the substring  BNJ  is  3\n"
     ]
    }
   ],
   "source": [
    "for w in Dupes:\n",
    "    idxs = dupes_str_indexes(Encoded_mex, w)\n",
    "    if len(idxs) > 2:\n",
    "        if reduce(math.gcd,idxs) > 1 :\n",
    "             print('The greatest common divisor for the indexes of the substring ',w,' is ',reduce(math.gcd,idxs))\n",
    "    else:\n",
    "        if math.gcd(idxs[0], idxs[1]) > 1 :\n",
    "             print('The greatest common divisor for the indexes of the substring ',w,' is ',math.gcd(idxs[0], idxs[1]))"
   ]
  },
  {
   "cell_type": "markdown",
   "id": "7678674e",
   "metadata": {},
   "source": [
    "Statistically speaking, we can see that most of times the _GCD_ is either $5$ or one of its multiple, we are gonna hence assume that the lenght of the key will be 5 ! \n",
    "We can hence set :"
   ]
  },
  {
   "cell_type": "code",
   "execution_count": 11,
   "id": "837b5dcd",
   "metadata": {},
   "outputs": [],
   "source": [
    "key_len = 5"
   ]
  },
  {
   "cell_type": "markdown",
   "id": "9ef30180",
   "metadata": {},
   "source": [
    "We can now decompose the original messages in $n$ messages where $n$ is the lenght of the key !"
   ]
  },
  {
   "cell_type": "code",
   "execution_count": 12,
   "id": "0baebc02",
   "metadata": {},
   "outputs": [],
   "source": [
    "def StrDecompose(string, key_len):\n",
    "    #Given a string and the lenght of the assumed key, this function will return key_len different strings by decomposing the original message\n",
    "    \n",
    "    Dec_strs = {}\n",
    "    \n",
    "    for i in range(key_len):\n",
    "        Dec_strs[i] = string[i::key_len]\n",
    "    \n",
    "    return Dec_strs\n",
    "    \n",
    "    "
   ]
  },
  {
   "cell_type": "markdown",
   "id": "0709cb5e",
   "metadata": {},
   "source": [
    "the decomposed strings would be given by :"
   ]
  },
  {
   "cell_type": "code",
   "execution_count": 13,
   "id": "0b90c4d4",
   "metadata": {},
   "outputs": [
    {
     "data": {
      "text/plain": [
       "{0: 'TSYORSPTASHTRNBHNEBIRTVIBREGOEDETALNHAEEDEBMGIWDIAOAOOATNWAEOUAAIAUMNEDLEBNELYEAWHDONCITUR',\n",
       " 1: 'UFLOVHOLOVDRYHRHHRHQHKRRXHLDUVHWHUOWHQVGISHRPDZEJGPLSXNRWKSGUOUJQWQHJGDLQHJRLIWFQHHYWUQKQH',\n",
       " 2: 'IOBRDRCQMOHTCGIQGDWGRSZBQGXIWAQCBHOWOUGICHFJOZCSBWORZZSAVODPSRHOOSQSCBMRRWGTHCCYCGBSHIUSHJ',\n",
       " 3: 'RGVXPSBPHNDCJHIWTACEQGJXWIXIIPXTSXLAHPRAGTGXGAJPPEIETSXTPITTRHJXHRXICTBTTYJBPGRSCIIBWHDRTD',\n",
       " 4: 'DKLXLBTGMMNXLTMBIXZBRXMGTUGABRWQFTNMBFAXLFXGMTELEELXPMMTMAGYHMIGMHEBPLKYWBLBKVKHMNFXXAYHKE'}"
      ]
     },
     "execution_count": 13,
     "metadata": {},
     "output_type": "execute_result"
    }
   ],
   "source": [
    "Dec_mexs = StrDecompose(Encoded_mex, key_len)\n",
    "Dec_mexs"
   ]
  },
  {
   "cell_type": "markdown",
   "id": "1818d2ac",
   "metadata": {},
   "source": [
    "We can hence proceed with a frequence analysis on the various sub_messages :"
   ]
  },
  {
   "cell_type": "code",
   "execution_count": 14,
   "id": "a68ce975",
   "metadata": {},
   "outputs": [],
   "source": [
    "Frq_submexs = {}\n",
    "\n",
    "for i in range(key_len):\n",
    "    Frq_submexs[i] = CharFrequencies(Dec_mexs[i])"
   ]
  },
  {
   "cell_type": "markdown",
   "id": "88d71676",
   "metadata": {},
   "source": [
    "let's plot the results to give a bit more insight :"
   ]
  },
  {
   "cell_type": "code",
   "execution_count": 15,
   "id": "e27683e1",
   "metadata": {},
   "outputs": [
    {
     "data": {
      "image/png": "[encoded data removed]",
      "text/plain": [
       "<Figure size 1152x648 with 5 Axes>"
      ]
     },
     "metadata": {},
     "output_type": "display_data"
    }
   ],
   "source": [
    "fig, ax = plt.subplots(key_len, 1, sharex='col', figsize = (16,9))\n",
    "for i in range(key_len):\n",
    "     ax[i].bar(Frq_submexs[i].keys(), Frq_submexs[i].values(), color='navy',label = 'Sub-Message'+str(i))\n",
    "     ax[i].legend(loc = 1, frameon = True, fancybox = True, shadow = True)\n",
    "     \n",
    "    "
   ]
  },
  {
   "cell_type": "markdown",
   "id": "3c9b1fae",
   "metadata": {},
   "source": [
    "We have to look at which of the 5 message is the more close to a proper english message, to do so we have to estimate the _IC_ for each of the 5 sub_messages, we get :"
   ]
  },
  {
   "cell_type": "code",
   "execution_count": 16,
   "id": "db7089f9",
   "metadata": {},
   "outputs": [
    {
     "name": "stdout",
     "output_type": "stream",
     "text": [
      "-~-~-~-~-~-~-~-~-~-~-~-~-~-~-~-~-~-~-~-~-~-~-~-~-~-~-~-~-~-~-~-~-~-~-~-~-~-~-~-~-~-~\n",
      "We are now considering the submessage indexed by  0\n",
      "The value of Index of coincidence estimated for the text is :  0.0728395061728395\n",
      "The text is likely to come from a single alphabet! \n",
      "Consult the IC table to find one which one is more likely !\n",
      "-~-~-~-~-~-~-~-~-~-~-~-~-~-~-~-~-~-~-~-~-~-~-~-~-~-~-~-~-~-~-~-~-~-~-~-~-~-~-~-~-~-~\n",
      "We are now considering the submessage indexed by  1\n",
      "The value of Index of coincidence estimated for the text is :  0.07679012345679011\n",
      "The text is likely to come from a single alphabet! \n",
      "Consult the IC table to find one which one is more likely !\n",
      "-~-~-~-~-~-~-~-~-~-~-~-~-~-~-~-~-~-~-~-~-~-~-~-~-~-~-~-~-~-~-~-~-~-~-~-~-~-~-~-~-~-~\n",
      "We are now considering the submessage indexed by  2\n",
      "The value of Index of coincidence estimated for the text is :  0.06592592592592594\n",
      "The text is likely to come from a single alphabet! \n",
      "Consult the IC table to find one which one is more likely !\n",
      "-~-~-~-~-~-~-~-~-~-~-~-~-~-~-~-~-~-~-~-~-~-~-~-~-~-~-~-~-~-~-~-~-~-~-~-~-~-~-~-~-~-~\n",
      "We are now considering the submessage indexed by  3\n",
      "The value of Index of coincidence estimated for the text is :  0.07111111111111112\n",
      "The text is likely to come from a single alphabet! \n",
      "Consult the IC table to find one which one is more likely !\n",
      "-~-~-~-~-~-~-~-~-~-~-~-~-~-~-~-~-~-~-~-~-~-~-~-~-~-~-~-~-~-~-~-~-~-~-~-~-~-~-~-~-~-~\n",
      "We are now considering the submessage indexed by  4\n",
      "The value of Index of coincidence estimated for the text is :  0.06938271604938272\n",
      "The text is likely to come from a single alphabet! \n",
      "Consult the IC table to find one which one is more likely !\n",
      "-~-~-~-~-~-~-~-~-~-~-~-~-~-~-~-~-~-~-~-~-~-~-~-~-~-~-~-~-~-~-~-~-~-~-~-~-~-~-~-~-~-~\n"
     ]
    }
   ],
   "source": [
    "for i in range(key_len):\n",
    "    print('-~-~-~-~-~-~-~-~-~-~-~-~-~-~-~-~-~-~-~-~-~-~-~-~-~-~-~-~-~-~-~-~-~-~-~-~-~-~-~-~-~-~')\n",
    "    print('We are now considering the submessage indexed by ',i)\n",
    "    IC_Analysis(Frq_submexs[i])\n",
    "\n",
    "print('-~-~-~-~-~-~-~-~-~-~-~-~-~-~-~-~-~-~-~-~-~-~-~-~-~-~-~-~-~-~-~-~-~-~-~-~-~-~-~-~-~-~')"
   ]
  },
  {
   "cell_type": "markdown",
   "id": "331d1ad3",
   "metadata": {},
   "source": [
    "As we know that the _IC_ for the English language is $0.06689$, the submessage closest to this value is the one indexed by 2 followd by the one indexed by 4."
   ]
  },
  {
   "cell_type": "markdown",
   "id": "86f79739",
   "metadata": {},
   "source": [
    "We know that in english the frequency of the letters is described by this dictionary:"
   ]
  },
  {
   "cell_type": "code",
   "execution_count": 17,
   "id": "db97be15",
   "metadata": {},
   "outputs": [],
   "source": [
    "# The value 107.8 is a normalization given by the sum of all the frequencies of the dictionary in order to get the probability\n",
    "\n",
    "Eng_Char_Frq = {\n",
    "    'A' : 6.9/107.8,\n",
    "    'B' : 0.9/107.8,\n",
    "    'C' : 4./107.8,\n",
    "    'D' : 4.2/107.8,\n",
    "    'E' : 13.1/107.8,\n",
    "    'F' : 2.7/107.8,\n",
    "    'G' : 2./107.8,\n",
    "    'H' : 3./107.8,\n",
    "    'I' : 7.9/107.8,\n",
    "    'J' : 0.8/107.8,\n",
    "    'K' : 0.9/107.8,\n",
    "    'L' : 3.9/107.8,\n",
    "    'M' : 3./107.8,\n",
    "    'N' : 8./107.8,\n",
    "    'O' : 8./107.8,\n",
    "    'P' : 2.2/107.8,\n",
    "    'Q' : 1./107.8,\n",
    "    'R' : 8.2/107.8,\n",
    "    'S' : 6.8/107.8,\n",
    "    'T' : 9./107.8,\n",
    "    'U' : 2.8/107.8,\n",
    "    'V' : 2.1/107.8,\n",
    "    'W' : 2.1/107.8,\n",
    "    'X' : 1./107.8,\n",
    "    'Y' : 2.5/107.8,\n",
    "    'Z' : 0.8/107.8 \n",
    "}"
   ]
  },
  {
   "cell_type": "markdown",
   "id": "c1e1ffd6",
   "metadata": {},
   "source": [
    "which result in the following hystogram:"
   ]
  },
  {
   "cell_type": "code",
   "execution_count": 18,
   "id": "78d0ebc7",
   "metadata": {},
   "outputs": [
    {
     "data": {
      "text/plain": [
       "<BarContainer object of 26 artists>"
      ]
     },
     "execution_count": 18,
     "metadata": {},
     "output_type": "execute_result"
    },
    {
     "data": {
      "image/png": "[encoded data removed]",
      "text/plain": [
       "<Figure size 864x576 with 1 Axes>"
      ]
     },
     "metadata": {},
     "output_type": "display_data"
    }
   ],
   "source": [
    "plt.figure(figsize=(12,8))\n",
    "plt.bar(Eng_Char_Frq.keys(), Eng_Char_Frq.values(), color='navy')"
   ]
  },
  {
   "cell_type": "markdown",
   "id": "35562b08",
   "metadata": {},
   "source": [
    "Considering that we would use this corrispondence between numbers and letters :\n"
   ]
  },
  {
   "cell_type": "code",
   "execution_count": 19,
   "id": "a32d3cc5",
   "metadata": {},
   "outputs": [],
   "source": [
    "Char_to_Numb = {\n",
    "    'A' : 0,\n",
    "    'B' : 1,\n",
    "    'C' : 2,\n",
    "    'D' : 3,\n",
    "    'E' : 4,\n",
    "    'F' : 5,\n",
    "    'G' : 6,\n",
    "    'H' : 7,\n",
    "    'I' : 8,\n",
    "    'J' : 9,\n",
    "    'K' : 10,\n",
    "    'L' : 11,\n",
    "    'M' : 12,\n",
    "    'N' : 13,\n",
    "    'O' : 14,\n",
    "    'P' : 15,\n",
    "    'Q' : 16,\n",
    "    'R' : 17,\n",
    "    'S' : 18,\n",
    "    'T' : 19,\n",
    "    'U' : 20,\n",
    "    'V' : 21,\n",
    "    'W' : 22,\n",
    "    'X' : 23,\n",
    "    'Y' : 24,\n",
    "    'Z' : 25 \n",
    "}"
   ]
  },
  {
   "cell_type": "code",
   "execution_count": 20,
   "id": "2deb681c",
   "metadata": {},
   "outputs": [],
   "source": [
    "Numb_to_Char = {\n",
    "     0 : 'A',\n",
    "     1 : 'B', \n",
    "     2 : 'C',\n",
    "     3 : 'D',\n",
    "     4 : 'E',\n",
    "     5 : 'F',\n",
    "     6 : 'G',\n",
    "     7 : 'H',\n",
    "     8 : 'I',\n",
    "     9 : 'J',\n",
    "    10 : 'K',\n",
    "    11 : 'L',\n",
    "    12 : 'M',\n",
    "    13 : 'N',\n",
    "    14 : 'O',\n",
    "    15 : 'P',\n",
    "    16 : 'Q',\n",
    "    17 : 'R',\n",
    "    18 : 'S',\n",
    "    19 : 'T',\n",
    "    20 : 'U',\n",
    "    21 : 'V',\n",
    "    22 : 'W',\n",
    "    23 : 'X',\n",
    "    24 : 'Y',\n",
    "    25 : 'Z' \n",
    "}"
   ]
  },
  {
   "cell_type": "markdown",
   "id": "0f3a89ec",
   "metadata": {},
   "source": [
    "By considering the 2nd substring, we can guess that the letter A corresponds to O, which means that 0 is traslated to 14, i.e. a +14 traslation.\n",
    "This is motivated by the fact that the letter A has usually got an high frequency, yet it has several minima of the frequency before that which are given by the last letters of the alphabet, while its followed by letter B which has low frequency and 3 other letters with medium frequency.\n",
    "This kind of substructure can be easily observed by eye in the plot of the second sub-string !\n",
    "By translating the whole row and comparing with the original english frequencies we get :"
   ]
  },
  {
   "cell_type": "code",
   "execution_count": 21,
   "id": "5cb2d621",
   "metadata": {},
   "outputs": [],
   "source": [
    "Traslated_message = {}\n",
    "Traslated_message[2] = ''\n",
    "for i in range(len(Dec_mexs[2])):\n",
    "    Traslated_message[2] += Numb_to_Char[(Char_to_Numb[Dec_mexs[2][i]] - 14)%26]"
   ]
  },
  {
   "cell_type": "code",
   "execution_count": 22,
   "id": "5bdd880e",
   "metadata": {},
   "outputs": [],
   "source": [
    "Frq_trasl = {}\n",
    "Frq_trasl[2] = CharFrequencies(Traslated_message[2])"
   ]
  },
  {
   "cell_type": "markdown",
   "id": "76def900",
   "metadata": {},
   "source": [
    "comparing with the standard english case :"
   ]
  },
  {
   "cell_type": "code",
   "execution_count": 23,
   "id": "11de8134",
   "metadata": {
    "scrolled": false
   },
   "outputs": [
    {
     "data": {
      "text/plain": [
       "<matplotlib.legend.Legend at 0x7f25d01dbdc0>"
      ]
     },
     "execution_count": 23,
     "metadata": {},
     "output_type": "execute_result"
    },
    {
     "data": {
      "image/png": "[encoded data removed]",
      "text/plain": [
       "<Figure size 864x576 with 1 Axes>"
      ]
     },
     "metadata": {},
     "output_type": "display_data"
    }
   ],
   "source": [
    "plt.figure(figsize=(12,8))\n",
    "plt.bar(Eng_Char_Frq.keys(), Eng_Char_Frq.values(), width = 0.5, color='navy', label = 'original english frequencies')\n",
    "plt.bar(Frq_trasl[2].keys() , Frq_trasl[2].values(), width = 0.2, color='crimson', label = 'translated message frequencies')\n",
    "\n",
    "plt.legend(loc = 1, frameon = True, fancybox = True, shadow = True)"
   ]
  },
  {
   "cell_type": "markdown",
   "id": "36bcc55a",
   "metadata": {},
   "source": [
    "the results after the translation seems credible up to statistical fluctuations, which makes us think that we find at least one component of the key !\n",
    "In order to find the other parts of the key, we just have to consider the [Mutual index of Coincidence](https://www.jfricker.com/blog/cryptanalysis-of-the-vigenere-cipher/) between two different substrings frequencies.\n",
    "The function can be defined as follows :"
   ]
  },
  {
   "cell_type": "code",
   "execution_count": 26,
   "id": "a472f405",
   "metadata": {},
   "outputs": [],
   "source": [
    "def MIC_Analysis(Frq_char1, Frq_char2):\n",
    "    # This function, receive two dictionaries with the frequency of each character of a text and return the values of its MIC for each of the possible shift 0 to 25 \n",
    "    \n",
    "    K_to_Mic = {\n",
    "         0 : 0.,\n",
    "         1 : 0., \n",
    "         2 : 0.,\n",
    "         3 : 0.,\n",
    "         4 : 0.,\n",
    "         5 : 0.,\n",
    "         6 : 0.,\n",
    "         7 : 0.,\n",
    "         8 : 0.,\n",
    "         9 : 0.,\n",
    "        10 : 0.,\n",
    "        11 : 0.,\n",
    "        12 : 0.,\n",
    "        13 : 0.,\n",
    "        14 : 0.,\n",
    "        15 : 0.,\n",
    "        16 : 0.,\n",
    "        17 : 0.,\n",
    "        18 : 0.,\n",
    "        19 : 0.,\n",
    "        20 : 0.,\n",
    "        21 : 0.,\n",
    "        22 : 0.,\n",
    "        23 : 0.,\n",
    "        24 : 0.,\n",
    "        25 : 0. \n",
    "    }\n",
    "    \n",
    "    for k in range(26):\n",
    "        for i in range(26):\n",
    "                K_to_Mic[k] += Frq_char1[Numb_to_Char[i]]*Frq_char2[Numb_to_Char[(i + k)%26]]\n",
    "    \n",
    "    return K_to_Mic\n",
    "            "
   ]
  },
  {
   "cell_type": "markdown",
   "id": "0aec8d8f",
   "metadata": {},
   "source": [
    "we now just have to estimate the mutual index of the various substrings compared to the original english character frequencies, and find for each component of the key the value of k that give a value of the index closest to the one predicted for the english language (i.e. $0.06689$):"
   ]
  },
  {
   "cell_type": "code",
   "execution_count": 27,
   "id": "ca21c2a9",
   "metadata": {},
   "outputs": [],
   "source": [
    "MIC_results = {}\n",
    "\n",
    "for i in range(key_len):\n",
    "    MIC_results[i] = MIC_Analysis(Eng_Char_Frq, Frq_submexs[i])"
   ]
  },
  {
   "cell_type": "markdown",
   "id": "06159e14",
   "metadata": {},
   "source": [
    "We can now start to define our key and filling in the components !"
   ]
  },
  {
   "cell_type": "code",
   "execution_count": 30,
   "id": "2a687a10",
   "metadata": {},
   "outputs": [],
   "source": [
    "key_string = ''\n",
    "key_numb = np.arange(key_len)"
   ]
  },
  {
   "cell_type": "code",
   "execution_count": 29,
   "id": "fbfa9ce8",
   "metadata": {},
   "outputs": [
    {
     "data": {
      "text/plain": [
       "{0: 0.06226551226551227,\n",
       " 1: 0.0367759224902082,\n",
       " 2: 0.03234384662956091,\n",
       " 3: 0.03346732632446918,\n",
       " 4: 0.03896103896103896,\n",
       " 5: 0.03284889713461143,\n",
       " 6: 0.034662956091527516,\n",
       " 7: 0.036281179138321996,\n",
       " 8: 0.0370645227788085,\n",
       " 9: 0.042620078334364035,\n",
       " 10: 0.03823953823953824,\n",
       " 11: 0.04084724799010513,\n",
       " 12: 0.03891981034838178,\n",
       " 13: 0.047186147186147186,\n",
       " 14: 0.0357555143269429,\n",
       " 15: 0.042589156874871165,\n",
       " 16: 0.040146361574933,\n",
       " 17: 0.033766233766233764,\n",
       " 18: 0.03417851989280562,\n",
       " 19: 0.03592042877757164,\n",
       " 20: 0.03571428571428572,\n",
       " 21: 0.03543599257884972,\n",
       " 22: 0.05031952174809316,\n",
       " 23: 0.034353741496598644,\n",
       " 24: 0.03167388167388168,\n",
       " 25: 0.03766233766233767}"
      ]
     },
     "execution_count": 29,
     "metadata": {},
     "output_type": "execute_result"
    }
   ],
   "source": [
    "MIC_results[0]"
   ]
  },
  {
   "cell_type": "markdown",
   "id": "03772f9b",
   "metadata": {},
   "source": [
    "the value closest to the english IC for the first sub-string is the one with $k = 0$, we can hence choose :"
   ]
  },
  {
   "cell_type": "code",
   "execution_count": 32,
   "id": "3bc3c1cf",
   "metadata": {},
   "outputs": [],
   "source": [
    "key_numb[0] = 0\n",
    "key_string += Numb_to_Char[0]"
   ]
  },
  {
   "cell_type": "markdown",
   "id": "06f849cb",
   "metadata": {},
   "source": [
    "Keeping on for the other entries we have :"
   ]
  },
  {
   "cell_type": "code",
   "execution_count": 33,
   "id": "b9dab782",
   "metadata": {},
   "outputs": [
    {
     "data": {
      "text/plain": [
       "{0: 0.03384869099154813,\n",
       " 1: 0.03404452690166975,\n",
       " 2: 0.039022881880024736,\n",
       " 3: 0.06555349412492271,\n",
       " 4: 0.03983714698000413,\n",
       " 5: 0.03780663780663781,\n",
       " 6: 0.033364254792826224,\n",
       " 7: 0.04262007833436406,\n",
       " 8: 0.030251494537208823,\n",
       " 9: 0.03529169243454958,\n",
       " 10: 0.03233353947639663,\n",
       " 11: 0.030839002267573697,\n",
       " 12: 0.037353123067408775,\n",
       " 13: 0.03814677386105957,\n",
       " 14: 0.04580498866213152,\n",
       " 15: 0.03695114409400123,\n",
       " 16: 0.04779426922284066,\n",
       " 17: 0.03466295609152754,\n",
       " 18: 0.0416924345495774,\n",
       " 19: 0.03869305297876726,\n",
       " 20: 0.04068233353947639,\n",
       " 21: 0.03295196866625438,\n",
       " 22: 0.035250463821892404,\n",
       " 23: 0.034312512883941444,\n",
       " 24: 0.03544629973201402,\n",
       " 25: 0.04544423830138117}"
      ]
     },
     "execution_count": 33,
     "metadata": {},
     "output_type": "execute_result"
    }
   ],
   "source": [
    "MIC_results[1]"
   ]
  },
  {
   "cell_type": "code",
   "execution_count": 34,
   "id": "1ac5aa73",
   "metadata": {},
   "outputs": [],
   "source": [
    "key_numb[1] = 3\n",
    "key_string += Numb_to_Char[3]"
   ]
  },
  {
   "cell_type": "code",
   "execution_count": 35,
   "id": "ec8862a9",
   "metadata": {},
   "outputs": [
    {
     "data": {
      "text/plain": [
       "{0: 0.03983714698000413,\n",
       " 1: 0.03806431663574521,\n",
       " 2: 0.03780663780663782,\n",
       " 3: 0.04373325087610802,\n",
       " 4: 0.04080601937744795,\n",
       " 5: 0.03398268398268398,\n",
       " 6: 0.03564213564213565,\n",
       " 7: 0.029694908266336844,\n",
       " 8: 0.03677592249020821,\n",
       " 9: 0.038054009482580926,\n",
       " 10: 0.046093588950731824,\n",
       " 11: 0.03419913419913421,\n",
       " 12: 0.03494124922696351,\n",
       " 13: 0.03891981034838178,\n",
       " 14: 0.05782312925170068,\n",
       " 15: 0.04344465058750773,\n",
       " 16: 0.03674500103071531,\n",
       " 17: 0.029983508554937126,\n",
       " 18: 0.034652648938363236,\n",
       " 19: 0.03335394763966192,\n",
       " 20: 0.03747680890538034,\n",
       " 21: 0.03971346114203258,\n",
       " 22: 0.03262213976499691,\n",
       " 23: 0.03767264481550195,\n",
       " 24: 0.04341372912801485,\n",
       " 25: 0.0445475159760874}"
      ]
     },
     "execution_count": 35,
     "metadata": {},
     "output_type": "execute_result"
    }
   ],
   "source": [
    "MIC_results[2]"
   ]
  },
  {
   "cell_type": "code",
   "execution_count": 36,
   "id": "08a49453",
   "metadata": {},
   "outputs": [],
   "source": [
    "key_numb[2] = 14\n",
    "key_string += Numb_to_Char[14]"
   ]
  },
  {
   "cell_type": "code",
   "execution_count": 37,
   "id": "6adf3c83",
   "metadata": {},
   "outputs": [
    {
     "data": {
      "text/plain": [
       "{0: 0.04432075860647289,\n",
       " 1: 0.03776540919398063,\n",
       " 2: 0.041826427540713265,\n",
       " 3: 0.03591012162440735,\n",
       " 4: 0.04954648526077097,\n",
       " 5: 0.04310451453308597,\n",
       " 6: 0.03756957328385901,\n",
       " 7: 0.0313440527726242,\n",
       " 8: 0.03260152545866832,\n",
       " 9: 0.038260152545866837,\n",
       " 10: 0.0334467120181406,\n",
       " 11: 0.042939600082457244,\n",
       " 12: 0.029921665635951354,\n",
       " 13: 0.03915687487116059,\n",
       " 14: 0.03826015254586683,\n",
       " 15: 0.06222428365285508,\n",
       " 16: 0.03795093795093796,\n",
       " 17: 0.0349721706864564,\n",
       " 18: 0.0313337456194599,\n",
       " 19: 0.04542362399505257,\n",
       " 20: 0.03405483405483405,\n",
       " 21: 0.03468357039785612,\n",
       " 22: 0.03612657184085756,\n",
       " 23: 0.03544629973201402,\n",
       " 24: 0.038404452690166985,\n",
       " 25: 0.0334054834054834}"
      ]
     },
     "execution_count": 37,
     "metadata": {},
     "output_type": "execute_result"
    }
   ],
   "source": [
    "MIC_results[3]"
   ]
  },
  {
   "cell_type": "code",
   "execution_count": 38,
   "id": "72057097",
   "metadata": {},
   "outputs": [],
   "source": [
    "key_numb[3] = 15\n",
    "key_string += Numb_to_Char[15]"
   ]
  },
  {
   "cell_type": "code",
   "execution_count": 39,
   "id": "3482e5e8",
   "metadata": {},
   "outputs": [
    {
     "data": {
      "text/plain": [
       "{0: 0.03638425066996496,\n",
       " 1: 0.0344671201814059,\n",
       " 2: 0.03515769944341373,\n",
       " 3: 0.033755926613069476,\n",
       " 4: 0.042032570603999175,\n",
       " 5: 0.03593073593073593,\n",
       " 6: 0.04035250463821893,\n",
       " 7: 0.03824984539270254,\n",
       " 8: 0.04778396206967635,\n",
       " 9: 0.03951762523191094,\n",
       " 10: 0.0362914862914863,\n",
       " 11: 0.034384662956091536,\n",
       " 12: 0.03804370232941662,\n",
       " 13: 0.03871366728509586,\n",
       " 14: 0.0323953823953824,\n",
       " 15: 0.040218511647083066,\n",
       " 16: 0.03193156050298908,\n",
       " 17: 0.03289012574726861,\n",
       " 18: 0.03842506699649556,\n",
       " 19: 0.06150278293135437,\n",
       " 20: 0.04192949907235621,\n",
       " 21: 0.03397237682951968,\n",
       " 22: 0.03229231086373943,\n",
       " 23: 0.044784580498866224,\n",
       " 24: 0.04112554112554114,\n",
       " 25: 0.03746650175221604}"
      ]
     },
     "execution_count": 39,
     "metadata": {},
     "output_type": "execute_result"
    }
   ],
   "source": [
    "MIC_results[4]"
   ]
  },
  {
   "cell_type": "code",
   "execution_count": 40,
   "id": "70df9854",
   "metadata": {},
   "outputs": [],
   "source": [
    "key_numb[4] = 19\n",
    "key_string += Numb_to_Char[19]"
   ]
  },
  {
   "cell_type": "markdown",
   "id": "d3f77a24",
   "metadata": {},
   "source": [
    "The final key is :"
   ]
  },
  {
   "cell_type": "code",
   "execution_count": 41,
   "id": "97e0dfbb",
   "metadata": {},
   "outputs": [
    {
     "data": {
      "text/plain": [
       "'ADOPT'"
      ]
     },
     "execution_count": 41,
     "metadata": {},
     "output_type": "execute_result"
    }
   ],
   "source": [
    "key_string"
   ]
  },
  {
   "cell_type": "markdown",
   "id": "1690a020",
   "metadata": {},
   "source": [
    "We can finally translate the sub-strings using the keys and recompose the message !"
   ]
  },
  {
   "cell_type": "code",
   "execution_count": 43,
   "id": "aa5a85be",
   "metadata": {},
   "outputs": [],
   "source": [
    "for k in range(key_len):\n",
    "    Traslated_message[k] = ''\n",
    "    for i in range(len(Dec_mexs[k])):\n",
    "        Traslated_message[k] += Numb_to_Char[(Char_to_Numb[Dec_mexs[k][i]] - key_numb[k])%26]"
   ]
  },
  {
   "cell_type": "markdown",
   "id": "94af43d7",
   "metadata": {},
   "source": [
    "plotting the final histograms comparing the translated frequencies of letters with the english one, we obtain :"
   ]
  },
  {
   "cell_type": "code",
   "execution_count": 50,
   "id": "f0aec8f9",
   "metadata": {},
   "outputs": [],
   "source": [
    "for k in range(key_len):\n",
    "     Frq_trasl[k] = CharFrequencies(Traslated_message[k])"
   ]
  },
  {
   "cell_type": "code",
   "execution_count": 51,
   "id": "004917f7",
   "metadata": {},
   "outputs": [
    {
     "data": {
      "image/png": "[encoded data removed]",
      "text/plain": [
       "<Figure size 1152x648 with 5 Axes>"
      ]
     },
     "metadata": {},
     "output_type": "display_data"
    }
   ],
   "source": [
    "fig, ax = plt.subplots(key_len, 1, sharex='col', figsize = (16,9))\n",
    "for i in range(key_len):\n",
    "    ax[i].bar(Eng_Char_Frq.keys(), Eng_Char_Frq.values(), width = 0.5, color='navy', label = 'original english frequencies')\n",
    "    ax[i].bar(Frq_trasl[i].keys() , Frq_trasl[i].values(), width = 0.2, color='crimson', label = 'translated message ' + str(i) + ' frequencies')\n",
    "    ax[i].legend(loc = 1, frameon = True, fancybox = True, shadow = True)"
   ]
  },
  {
   "cell_type": "markdown",
   "id": "96817869",
   "metadata": {},
   "source": [
    "The situation seems coherent, we can finally recompose our original message !"
   ]
  },
  {
   "cell_type": "code",
   "execution_count": 54,
   "id": "026c8bea",
   "metadata": {},
   "outputs": [],
   "source": [
    "Decrypted_message = ''\n",
    "\n",
    "for i in range(len(Encoded_mex)):\n",
    "    Decrypted_message += Traslated_message[i%key_len][int(i/5)]"
   ]
  },
  {
   "cell_type": "markdown",
   "id": "a3b6a37b",
   "metadata": {},
   "source": [
    "The final message is :"
   ]
  },
  {
   "cell_type": "code",
   "execution_count": 55,
   "id": "cb060f44",
   "metadata": {},
   "outputs": [
    {
     "data": {
      "text/plain": [
       "'TRUCKSCARRYINGSOLDIERSPASSEDDIPLOMATICANALYSTSSAYTHATOUTOFNERVOUSNESSABOUTTHECHINESEPEOPLEBEINGINSPIREDBYTHEREVOLUTIONINBUCHARESTBEIJINGAUTHORITIESMAYDECIDETOEXTENDMARTIALLAWUNTILTHEASIANGAMESSCHEDULEDFORSEPTEMBERREMOVINGMARTIALLAWWOULDBEASIGNALADIPLOMATSAIDPEOPLEWOULDTAKEITTOMEANTHATWHATHAPPENEDBEFORECOULDSTARTUPAGAININASTATECOUNCILMEETINGONWEDNESDAYMRLIDEFENDEDBEIJINGSUSEOFMILITARYFORCETOCRACKDOWNONTHESTUDENTMOVEMENTTHECRUSHINGOFTHECOUNTERREVOL'"
      ]
     },
     "execution_count": 55,
     "metadata": {},
     "output_type": "execute_result"
    }
   ],
   "source": [
    "Decrypted_message"
   ]
  },
  {
   "cell_type": "markdown",
   "id": "4608cb7e",
   "metadata": {},
   "source": [
    "with a bit of reordering, and adding some spaces, we get :"
   ]
  },
  {
   "cell_type": "markdown",
   "id": "8caff454",
   "metadata": {},
   "source": [
    "_TRUCKS CARRYING SOLDIERS PASSED,\n",
    "DIPLOMATIC ANALYSTS SAY THAT, OUT OF NERVOUSNESS ABOUT THE CHINESE PEOPLE BEING INSPIRED BY THE REVOLUTION IN BUCHAREST, \n",
    "BEIJING AUTHORITIES MAY DECIDE TO EXTEND MARTIAL LAW UNTIL THE ASIAN GAMES SCHEDULED FOR SEPTEMBER.\n",
    "REMOVING MARTIAL LAW WOULD BE A SIGNAL, A DIPLOMAT SAID PEOPLE WOULD TAKE IT TO MEAN THAT WHAT HAPPENED BEFORE COULD START UP AGAIN.\n",
    "IN A STATE COUNCIL MEETING ON WEDNESDAY MRLI DEFENDED BEIJINGS USE OF MILITARY FORCE TO CRACK DOWN ON THE STUDENT MOVEMENT THE CRUSHING OF THE COUNTERREVOL_"
   ]
  }
 ],
 "metadata": {
  "kernelspec": {
   "display_name": "Python 3",
   "language": "python",
   "name": "python3"
  },
  "language_info": {
   "codemirror_mode": {
    "name": "ipython",
    "version": 3
   },
   "file_extension": ".py",
   "mimetype": "text/x-python",
   "name": "python",
   "nbconvert_exporter": "python",
   "pygments_lexer": "ipython3",
   "version": "3.8.10"
  }
 },
 "nbformat": 4,
 "nbformat_minor": 5
}
